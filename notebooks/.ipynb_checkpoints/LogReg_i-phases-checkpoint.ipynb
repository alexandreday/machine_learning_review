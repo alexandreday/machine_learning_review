{
 "cells": [
  {
   "cell_type": "code",
   "execution_count": 2,
   "metadata": {
    "collapsed": false
   },
   "outputs": [
    {
     "name": "stdout",
     "output_type": "stream",
     "text": [
      "mag_vs_T_L40_T=1.00.pkl\n"
     ]
    }
   ],
   "source": [
    "%matplotlib inline\n",
    "import numpy as np\n",
    "import matplotlib.pyplot as plt\n",
    "import seaborn\n",
    "import pickle\n",
    "\n",
    "from sklearn import linear_model\n",
    "\n",
    "# model params\n",
    "L=40 # system size\n",
    "J=1.0 # Ising interaction\n",
    "T=np.linspace(0.25,4.0,16) # temperatures\n",
    "\n",
    "\n",
    "# load data\n",
    "\n",
    "path_to_data='/Users/mbukov/Dropbox/MachineLearningReview/Datasets/isingMC/pickled/'\n",
    "file_name='mag_vs_T_L%i_T=%.2f.pkl' %(L,T[3])\n",
    "\n",
    "f=open(path_to_data+file_name,'rb')\n",
    "X=pickle.load(f)\n",
    "\n",
    "print(X)\n",
    "\n",
    "exit()\n",
    "\n",
    "# define logistic regressor\n",
    "logreg=linear_model.LogisticRegression\n"
   ]
  },
  {
   "cell_type": "code",
   "execution_count": null,
   "metadata": {
    "collapsed": true
   },
   "outputs": [],
   "source": []
  }
 ],
 "metadata": {
  "anaconda-cloud": {},
  "kernelspec": {
   "display_name": "Python [py35]",
   "language": "python",
   "name": "Python [py35]"
  },
  "language_info": {
   "codemirror_mode": {
    "name": "ipython",
    "version": 3
   },
   "file_extension": ".py",
   "mimetype": "text/x-python",
   "name": "python",
   "nbconvert_exporter": "python",
   "pygments_lexer": "ipython3",
   "version": "3.5.3"
  }
 },
 "nbformat": 4,
 "nbformat_minor": 0
}
