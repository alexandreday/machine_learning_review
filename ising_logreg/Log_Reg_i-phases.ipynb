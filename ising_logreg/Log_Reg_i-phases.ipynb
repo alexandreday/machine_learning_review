{
 "cells": [
  {
   "cell_type": "markdown",
   "metadata": {},
   "source": [
    "## Identifying the Phases of the 2D Ising Model\n",
    "\n",
    "The goal of this notebook is to show how one can employ Logistic Regression to classify the states of the 2D Ising model according to their phase. \n",
    "\n",
    "The Hamiltonian for the classical Ising model is given by\n",
    "\n",
    "$$ H = -J\\sum_{\\langle ij\\rangle}S_{i}S_j,\\qquad \\qquad S_j\\in\\{\\pm 1\\} $$\n",
    "\n",
    "where the lattice site indices $i,j$ run over all nearest neighbours of a 2D square lattice, and $J$ is some arbitrary interaction energy scale. We adopt periodic boundary conditions. Onsager proved that this model undergoes a phase trasition in the thermodynamc limit from an ordered ferromagnet with all spins aligned to a disordered phase at the critical temperature $T_c/J=1/\\log(1+\\sqrt{2})\\approx 2.26$. For any finite system size, this critical point is expanded to a critical region around $T_c$."
   ]
  },
  {
   "cell_type": "code",
   "execution_count": 2,
   "metadata": {
    "collapsed": true
   },
   "outputs": [],
   "source": [
    "import numpy as np\n",
    "\n",
    "np.random.seed() # shuffle random seed generator\n",
    "\n",
    "# Ising model parameters\n",
    "L=40 # linear system size\n",
    "J=-1.0 # Ising interaction\n",
    "T=np.linspace(0.25,4.0,16) # set of temperatures\n",
    "T_c=2.26 # Onsager critical temperature in the TD limit"
   ]
  },
  {
   "cell_type": "markdown",
   "metadata": {},
   "source": [
    "An interesting question to ask is whether one can train a computer model to distinguish between the two phases of the Ising model. If successful, this can be used to locate the position of the citical point in more cmplicated models where an exact analytical solution has so far remained elusive [CITE Melko]. In other words, given an Ising state, we would like to classify whether it belongs to the ordered or the disordered phase, without any additional information other than the spin configuration itself. This categorical machine learning problem is well suited for logistic regression and will thus consist of recognising whether a given state is ordered by looking at its bit configurations. Notice that, for the purposes of applying logisticregression, the 2D spin state of the Ising model will be flattened out to a 1D array, so it will not be possible to learn information about the structure of the contiguous ordered 2D domains [see Fig. ???]. Such information can be incorporated using deep convulutional neural networks, see Chapter ???.\n",
    "\n",
    "To this end, we consider the 2D Ising model on a $40\\times 40$ square lattice, and use Monte-Carlo (MC) sampling to prepare $10^4$ states at every fixed temperature $T$ out of a pre-defined set. Using Onsager's criterion, we can assign a label to each state according to its phase: $0$ if the state is disordered, and $1$ if it is ordered. \n",
    "\n",
    "It is well-known that near the critical temperature $T_c$ the ferromagnetic correlation length diverges, which leads to a critical slowing down of the MC algorithm. Therefore, we expect identifying the phases to be harder in the critical region. With this in mind, consider the following three types of states: ordered ($T/J<2.0$), critical ($2.0\\leq T/J\\leq 2.5)$ and disordered ($T/J>2.5$). We use both ordered and disordered states to train the logistic regressor and, once the supervised training procedure is complete, we shall evaluate the performace of our classification model on unseen ordered, disordered and critical states. "
   ]
  },
  {
   "cell_type": "code",
   "execution_count": 3,
   "metadata": {
    "collapsed": false
   },
   "outputs": [],
   "source": [
    "##### prepare training and test data sets\n",
    "\n",
    "import pickle,os\n",
    "from sklearn.model_selection import train_test_split\n",
    "\n",
    "###### define ML parameters\n",
    "train_to_test_ratio=0.8 # training samples\n",
    "\n",
    "# path to data directory\n",
    "path_to_data=os.path.expanduser('~')+'/Dropbox/MachineLearningReview/Datasets/isingMC/pickled/'\n",
    "\n",
    "# preallocate ordered, critical and disordered states\n",
    "X_ordered=np.zeros((70000,L**2),dtype=np.int32)\n",
    "Y_ordered=np.ones((70000,),dtype=np.int32)\n",
    "\n",
    "X_critical=np.zeros((30000,L**2),dtype=np.int32)\n",
    "Y_critical=np.ones((30000,),dtype=np.int32)\n",
    "\n",
    "X_disordered=np.zeros((60000,L**2),dtype=np.int32)\n",
    "Y_disordered=np.zeros((60000,),dtype=np.int32)\n",
    "\n",
    "# load data in ordered phase\n",
    "for i,T_i in enumerate(T[:7]):\n",
    "\n",
    "    file_name='mag_vs_T_L%i_T=%.2f.pkl' %(L,T_i)\n",
    "\n",
    "    f=open(path_to_data+file_name,'rb')\n",
    "    X_ordered[10000*i:10000*(i+1),:]=pickle.load(f)\n",
    "\n",
    "# load data in critical region\n",
    "for i,T_i in enumerate(T[7:10]):\n",
    "\n",
    "    file_name='mag_vs_T_L%i_T=%.2f.pkl' %(L,T_i)\n",
    "\n",
    "    f=open(path_to_data+file_name,'rb')\n",
    "    X_critical[10000*i:10000*(i+1),:]=pickle.load(f)\n",
    "    if T_i>T_c:\n",
    "        Y_critical[10000*i:10000*(i+1)]=0\n",
    "\n",
    "# load data in disordered phase\n",
    "for i,T_i in enumerate(T[10:]):\n",
    "\n",
    "    file_name='mag_vs_T_L%i_T=%.2f.pkl' %(L,T_i)\n",
    "\n",
    "    f=open(path_to_data+file_name,'rb')\n",
    "    X_disordered[10000*i:10000*(i+1),:]=pickle.load(f)\n",
    "\n",
    "# so far the Ising states contain strings of 0's and 1'.    \n",
    "# map 0 state to -1 (Ising variable can take values +/-1)\n",
    "X_ordered[np.where(X_ordered==0)]=-1\n",
    "X_disordered[np.where(X_disordered==0)]=-1\n",
    "X_critical[np.where(X_critical==0)]=-1\n",
    "\n",
    "X=np.concatenate((X_ordered,X_disordered))\n",
    "Y=np.concatenate((Y_ordered,Y_disordered))\n",
    "\n",
    "### remove mean and divide by standard dev of every feature\n",
    "#from sklearn import preprocessing\n",
    "#X=preprocessing.scale(X)\n",
    "\n",
    "# pick random data points from ordered and disordered states \n",
    "# to create the training and test sets\n",
    "X_train,X_test,Y_train,Y_test=train_test_split(X,Y,train_size=train_to_test_ratio)"
   ]
  },
  {
   "cell_type": "code",
   "execution_count": 4,
   "metadata": {
    "collapsed": false
   },
   "outputs": [
    {
     "data": {
      "image/png": "[encoded data removed]",
      "text/plain": [
       "<matplotlib.figure.Figure at 0x1172f1dd8>"
      ]
     },
     "metadata": {},
     "output_type": "display_data"
    }
   ],
   "source": [
    "##### plot a few Ising states\n",
    "\n",
    "import matplotlib.pyplot as plt\n",
    "from mpl_toolkits.axes_grid1 import make_axes_locatable\n",
    "\n",
    "# set colourbar map\n",
    "cmap_args=dict(cmap='plasma_r')\n",
    "\n",
    "# plot states\n",
    "fig, axarr = plt.subplots(nrows=1, ncols=3)\n",
    "\n",
    "axarr[0].imshow(X_ordered[20001].reshape(L,L),**cmap_args)\n",
    "axarr[0].set_title('$\\\\mathrm{ordered\\\\ phase}$',fontsize=16)\n",
    "axarr[0].tick_params(labelsize=16)\n",
    "\n",
    "axarr[1].imshow(X_critical[10001].reshape(L,L),**cmap_args)\n",
    "axarr[1].set_title('$\\\\mathrm{critical\\\\ region}$',fontsize=16)\n",
    "axarr[1].tick_params(labelsize=16)\n",
    "\n",
    "im=axarr[2].imshow(X_disordered[50001].reshape(L,L),**cmap_args)\n",
    "axarr[2].set_title('$\\\\mathrm{disordered\\\\ phase}$',fontsize=16)\n",
    "axarr[2].tick_params(labelsize=16)\n",
    "\n",
    "fig.subplots_adjust(right=2.0)\n",
    "\n",
    "plt.show()"
   ]
  },
  {
   "cell_type": "markdown",
   "metadata": {},
   "source": [
    "We have shown that the cross-entropy is the error (cost) function used to train a logistic regressor. As we already mentioned, minimizing it requires the use of numerical toolboxes. Here, we compare the performance of two different minimisation routines: a `liblinear` [the default one for scikit's logistic regression], and stochastic gradient descent (SGD) [see Sec ??? for more details].\n",
    "\n",
    "It is important to note that all these methods have built-in regularisors. Indeed, we did not discuss the role of the regularisor for Logistic Regression extensively, yet this concept is crucial in order to prevent overfitting, and we encourage the interested reader to play with the different regularisation types to and compare the model performance. \n",
    "\n",
    "Below, we define the accuracy of a classification model on a given data set as the percentage of correctly classified data points. Comparing the accuracy on the training and test data, we obtain a good estimate of the degree of overfitting. Well-trained models do not overfit the data, which is reflected in an almost equal performance on the training and test data sets [recall that the test set consists of samples which the model has not been trained on]. "
   ]
  },
  {
   "cell_type": "code",
   "execution_count": 5,
   "metadata": {
    "collapsed": false
   },
   "outputs": [
    {
     "name": "stdout",
     "output_type": "stream",
     "text": [
      "accuracy train test critical\n",
      "liblin: 0.8775, 0.8638, 0.7451\n",
      "SGD: 0.7958, 0.7949, 0.6887\n",
      "finished computing 1/11 iterations\n",
      "accuracy train test critical\n",
      "liblin: 0.8775, 0.8638, 0.7451\n",
      "SGD: 0.8374, 0.8286, 0.7360\n",
      "finished computing 2/11 iterations\n",
      "accuracy train test critical\n",
      "liblin: 0.8775, 0.8638, 0.7451\n",
      "SGD: 0.8775, 0.8647, 0.7447\n",
      "finished computing 3/11 iterations\n",
      "accuracy train test critical\n",
      "liblin: 0.8775, 0.8638, 0.7451\n",
      "SGD: 0.8813, 0.8700, 0.7461\n",
      "finished computing 4/11 iterations\n",
      "accuracy train test critical\n",
      "liblin: 0.8775, 0.8638, 0.7451\n",
      "SGD: 0.8897, 0.8835, 0.7514\n",
      "finished computing 5/11 iterations\n",
      "accuracy train test critical\n",
      "liblin: 0.8775, 0.8638, 0.7451\n",
      "SGD: 0.8913, 0.8886, 0.7556\n",
      "finished computing 6/11 iterations\n",
      "accuracy train test critical\n",
      "liblin: 0.8775, 0.8638, 0.7451\n",
      "SGD: 0.8783, 0.8757, 0.7484\n",
      "finished computing 7/11 iterations\n",
      "accuracy train test critical\n",
      "liblin: 0.8773, 0.8635, 0.7449\n",
      "SGD: 0.8602, 0.8602, 0.7745\n",
      "finished computing 8/11 iterations\n",
      "accuracy train test critical\n",
      "liblin: 0.8745, 0.8617, 0.7435\n",
      "SGD: 0.8426, 0.8441, 0.8339\n",
      "finished computing 9/11 iterations\n",
      "accuracy train test critical\n",
      "liblin: 0.8426, 0.8331, 0.7272\n",
      "SGD: 0.4626, 0.4573, 0.3333\n",
      "finished computing 10/11 iterations\n",
      "accuracy train test critical\n",
      "liblin: 0.7442, 0.7429, 0.6913\n",
      "SGD: 0.4626, 0.4573, 0.3333\n",
      "finished computing 11/11 iterations\n"
     ]
    },
    {
     "data": {
      "image/png": "[encoded data removed]",
      "text/plain": [
       "<matplotlib.figure.Figure at 0x10dc7d4a8>"
      ]
     },
     "metadata": {},
     "output_type": "display_data"
    }
   ],
   "source": [
    "###### apply logistic regression\n",
    "from sklearn import linear_model\n",
    "from sklearn.neural_network import MLPClassifier\n",
    "\n",
    "\n",
    "# define regularisation parameter\n",
    "lmbdas=np.logspace(-5,5,11)\n",
    "\n",
    "# preallocate data\n",
    "train_accuracy=np.zeros(lmbdas.shape,np.float64)\n",
    "test_accuracy=np.zeros(lmbdas.shape,np.float64)\n",
    "critical_accuracy=np.zeros(lmbdas.shape,np.float64)\n",
    "\n",
    "train_accuracy_SGD=np.zeros(lmbdas.shape,np.float64)\n",
    "test_accuracy_SGD=np.zeros(lmbdas.shape,np.float64)\n",
    "critical_accuracy_SGD=np.zeros(lmbdas.shape,np.float64)\n",
    "\n",
    "# loop over regularisation strength\n",
    "for i,lmbda in enumerate(lmbdas):\n",
    "\n",
    "    # define logistic regressor\n",
    "    logreg=linear_model.LogisticRegression(C=1.0/lmbda,random_state=1,verbose=0,max_iter=1E3,tol=1E-5)\n",
    "\n",
    "    # fit training data\n",
    "    logreg.fit(X_train, Y_train)\n",
    "\n",
    "    # check accuracy\n",
    "    train_accuracy[i]=logreg.score(X_train,Y_train)\n",
    "    test_accuracy[i]=logreg.score(X_test,Y_test)\n",
    "    critical_accuracy[i]=logreg.score(X_critical,Y_critical)\n",
    "    \n",
    "    print('accuracy: train, test, critical')\n",
    "    print('liblin: %0.4f, %0.4f, %0.4f' %(train_accuracy[i],test_accuracy[i],critical_accuracy[i]) )\n",
    "\n",
    "    # define SGD-based logistic regression\n",
    "    logreg_SGD = linear_model.SGDClassifier(loss='log', penalty='l2', alpha=lmbda, n_iter=100, \n",
    "                                           shuffle=True, random_state=1, learning_rate='optimal')\n",
    "\n",
    "    # fit training data\n",
    "    logreg_SGD.fit(X_train,Y_train)\n",
    "\n",
    "    # check accuracy\n",
    "    train_accuracy_SGD[i]=logreg_SGD.score(X_train,Y_train)\n",
    "    test_accuracy_SGD[i]=logreg_SGD.score(X_test,Y_test)\n",
    "    critical_accuracy_SGD[i]=logreg_SGD.score(X_critical,Y_critical)\n",
    "    \n",
    "    print('SGD: %0.4f, %0.4f, %0.4f' %(train_accuracy_SGD[i],test_accuracy_SGD[i],critical_accuracy_SGD[i]) )\n",
    "\n",
    "    print('finished computing %i/11 iterations' %(i+1))\n",
    "\n",
    "# plot accuracy against regularisation strength\n",
    "plt.semilogx(lmbdas,train_accuracy,'*-b',label='liblinear train')\n",
    "plt.semilogx(lmbdas,test_accuracy,'*-r',label='liblinear test')\n",
    "plt.semilogx(lmbdas,critical_accuracy,'*-g',label='liblinear critical')\n",
    "\n",
    "plt.semilogx(lmbdas,train_accuracy_SGD,'*--b',label='SGD train')\n",
    "plt.semilogx(lmbdas,test_accuracy_SGD,'*--r',label='SGD test')\n",
    "plt.semilogx(lmbdas,critical_accuracy_SGD,'*--g',label='SGD critical')\n",
    "\n",
    "plt.xlabel('$\\\\lambda$')\n",
    "plt.ylabel('$\\\\mathrm{accuracy}$')\n",
    "\n",
    "plt.grid()\n",
    "plt.legend()\n",
    "\n",
    "\n",
    "plt.show()"
   ]
  },
  {
   "cell_type": "markdown",
   "metadata": {
    "collapsed": true
   },
   "source": [
    "The first thing to read off Fig.~??? is the low degree of overfitting, as suggested by the training (blue) and test (red) accuracy curves being very close to each other. Interestingly, which minimiser performs better depends on the value of he regularisation strength. Moreover,\n",
    "similar to the Linear Regression examples, we find that there exists a sweet spot for the regularisation strength $\\lambda$ that results in optimal performance of the logistic regressor, at about $\\lambda\\sim 1.0$.\n",
    "\n",
    "Due to the physics of the Ising model close to criticality, we can expect different behaviour in how easy the phase recognition problem in the critical region will be. Intuitively, by looking at the states in the critical region, c.f.~Fig.???, we notice that it is no longer easy even for a trained human eye to distinguish between the ferromagnetic and the disordered phases close to $T_c$. Therefore, it is interesting to also compare the training and test accuracies, to the accuracy of the critical states [recall that the model is not trained on critical states]. Indeed, the accuracy is about $15\\%$ smaller for the critical states (green curves). \n"
   ]
  },
  {
   "cell_type": "markdown",
   "metadata": {},
   "source": [
    "### Excercises: ###  \n",
    "<ul>\n",
    "<li> Change the regularisation to $L^1$, or $L^1+L^2$, and study the performance of the model.\n",
    "\n",
    "<li> Try out different solvers supported by `LogisticRegression()` [see online scikit documentation]. How do they compare to `liblinear` and `SGD`?\n",
    "\n",
    "<li> One can expect the regressor to be maximally confused exactly at the critical point. Take the data states for the closest temperature, i.e. $T/J=2.5$, and check the performance of the model. Do we get an accuracy of about $50\\%$? Does this depend on the proportion of ordered to disordered states in the training set?\n",
    "\n",
    "<li> Take the regressor trained on the square lattice Ising model, and try to predict the phases on a different lattice geometry (e.g. triangular or honeycomb). What accuracy do you obtain? Can you roughly locate the critical point in this new model?\n",
    "</ul>"
   ]
  },
  {
   "cell_type": "code",
   "execution_count": null,
   "metadata": {
    "collapsed": true
   },
   "outputs": [],
   "source": []
  }
 ],
 "metadata": {
  "anaconda-cloud": {},
  "kernelspec": {
   "display_name": "Python [py35]",
   "language": "python",
   "name": "Python [py35]"
  },
  "language_info": {
   "codemirror_mode": {
    "name": "ipython",
    "version": 3
   },
   "file_extension": ".py",
   "mimetype": "text/x-python",
   "name": "python",
   "nbconvert_exporter": "python",
   "pygments_lexer": "ipython3",
   "version": "3.5.3"
  }
 },
 "nbformat": 4,
 "nbformat_minor": 0
}
