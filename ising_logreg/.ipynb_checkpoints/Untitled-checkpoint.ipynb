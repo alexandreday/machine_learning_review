{
 "cells": [
  {
   "cell_type": "markdown",
   "metadata": {},
   "source": [
    "## Classifying the Phases of the 2D Ising Model\n",
    "\n",
    "The goal of this notebook is to show how one can employ Logistic Regression to classify the phases of the 2D Ising model. The Hamiltonian for the system is given by\n",
    "\n",
    "$$ H = -J\\sum_{\\langle ij\\rangle}S_{i}S_j $$\n",
    "\n",
    "where the lattice site indices $i,j$ run over all nearest neighbours of a 2D square lattice, and $J=1$ is some arbitrary energy scale. Onsager demonstrated that this model undergoes a phase trasition in the thermodynamc limit from an ordered ferromagnet with all spins aligned to a disordered phase at the critical temperature $T_c/J=1/\\log(1+\\sqrt{2})\\approx 2.26$. \n",
    "\n",
    "An interesting question to ask is whether one can train a computer model to distinguish between the two phases of the Ising model. If successful, this can be used to locate the position of the citical point in more cmplicated models where an exact analytical solution has so far remained elusive [CITE Melko]. In other words, given an Ising state, we would like to classify if it belongs to the ordered or the disordered phase without any additional information besides the spin configuration itself.\n",
    "\n",
    "To this end, we consider the 2D Ising model on a $40\\by 40$ square lattice, and use Monte-Carlo sampling to prepare $10^4$ states, at every fixed temperature $T$ out of a pre-defined set. Using Onsagener's criterion, we can assign a label to each state according to its phase. \n",
    "\n"
   ]
  },
  {
   "cell_type": "code",
   "execution_count": null,
   "metadata": {
    "collapsed": true
   },
   "outputs": [],
   "source": []
  }
 ],
 "metadata": {
  "anaconda-cloud": {},
  "kernelspec": {
   "display_name": "Python [Root]",
   "language": "python",
   "name": "Python [Root]"
  },
  "language_info": {
   "codemirror_mode": {
    "name": "ipython",
    "version": 2
   },
   "file_extension": ".py",
   "mimetype": "text/x-python",
   "name": "python",
   "nbconvert_exporter": "python",
   "pygments_lexer": "ipython2",
   "version": "2.7.13"
  }
 },
 "nbformat": 4,
 "nbformat_minor": 0
}
